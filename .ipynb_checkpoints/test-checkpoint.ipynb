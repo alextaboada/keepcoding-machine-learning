{
 "cells": [
  {
   "cell_type": "code",
   "execution_count": 1,
   "metadata": {},
   "outputs": [
    {
     "name": "stdout",
     "output_type": "stream",
     "text": [
      "Requirement already satisfied: pygwalker in c:\\users\\aleja\\anaconda3\\lib\\site-packages (0.4.4)\n",
      "Requirement already satisfied: altair>=5.0.0 in c:\\users\\aleja\\anaconda3\\lib\\site-packages (from pygwalker) (5.2.0)\n",
      "Requirement already satisfied: appdirs in c:\\users\\aleja\\anaconda3\\lib\\site-packages (from pygwalker) (1.4.4)\n",
      "Requirement already satisfied: arrow in c:\\users\\aleja\\anaconda3\\lib\\site-packages (from pygwalker) (1.2.3)\n",
      "Requirement already satisfied: astor in c:\\users\\aleja\\anaconda3\\lib\\site-packages (from pygwalker) (0.8.1)\n",
      "Requirement already satisfied: cachetools in c:\\users\\aleja\\anaconda3\\lib\\site-packages (from pygwalker) (5.3.2)\n",
      "Requirement already satisfied: duckdb==0.9.2 in c:\\users\\aleja\\anaconda3\\lib\\site-packages (from pygwalker) (0.9.2)\n",
      "Requirement already satisfied: gw-dsl-parser==0.1.44 in c:\\users\\aleja\\anaconda3\\lib\\site-packages (from pygwalker) (0.1.44)\n",
      "Requirement already satisfied: ipython in c:\\users\\aleja\\anaconda3\\lib\\site-packages (from pygwalker) (8.20.0)\n",
      "Requirement already satisfied: ipywidgets in c:\\users\\aleja\\anaconda3\\lib\\site-packages (from pygwalker) (8.0.4)\n",
      "Requirement already satisfied: jinja2 in c:\\users\\aleja\\anaconda3\\lib\\site-packages (from pygwalker) (3.1.2)\n",
      "Requirement already satisfied: kanaries-track==0.0.4 in c:\\users\\aleja\\anaconda3\\lib\\site-packages (from pygwalker) (0.0.4)\n",
      "Requirement already satisfied: pandas in c:\\users\\aleja\\anaconda3\\lib\\site-packages (from pygwalker) (2.1.4)\n",
      "Requirement already satisfied: psutil in c:\\users\\aleja\\anaconda3\\lib\\site-packages (from pygwalker) (5.9.0)\n",
      "Requirement already satisfied: pyarrow in c:\\users\\aleja\\anaconda3\\lib\\site-packages (from pygwalker) (11.0.0)\n",
      "Requirement already satisfied: pydantic in c:\\users\\aleja\\anaconda3\\lib\\site-packages (from pygwalker) (2.5.3)\n",
      "Requirement already satisfied: pytz in c:\\users\\aleja\\anaconda3\\lib\\site-packages (from pygwalker) (2023.3.post1)\n",
      "Requirement already satisfied: requests in c:\\users\\aleja\\anaconda3\\lib\\site-packages (from pygwalker) (2.31.0)\n",
      "Requirement already satisfied: segment-analytics-python==2.2.3 in c:\\users\\aleja\\anaconda3\\lib\\site-packages (from pygwalker) (2.2.3)\n",
      "Requirement already satisfied: sqlalchemy in c:\\users\\aleja\\anaconda3\\lib\\site-packages (from pygwalker) (2.0.25)\n",
      "Requirement already satisfied: sqlglot>=19.0.0 in c:\\users\\aleja\\anaconda3\\lib\\site-packages (from pygwalker) (20.11.0)\n",
      "Requirement already satisfied: typing-extensions in c:\\users\\aleja\\anaconda3\\lib\\site-packages (from pygwalker) (4.9.0)\n",
      "Requirement already satisfied: wasmtime==12.0.0 in c:\\users\\aleja\\anaconda3\\lib\\site-packages (from gw-dsl-parser==0.1.44->pygwalker) (12.0.0)\n",
      "Requirement already satisfied: backoff>=2.2.1 in c:\\users\\aleja\\anaconda3\\lib\\site-packages (from kanaries-track==0.0.4->pygwalker) (2.2.1)\n",
      "Requirement already satisfied: dateutils>=0.6.12 in c:\\users\\aleja\\anaconda3\\lib\\site-packages (from kanaries-track==0.0.4->pygwalker) (0.6.12)\n",
      "Requirement already satisfied: monotonic~=1.5 in c:\\users\\aleja\\anaconda3\\lib\\site-packages (from segment-analytics-python==2.2.3->pygwalker) (1.6)\n",
      "Requirement already satisfied: python-dateutil~=2.2 in c:\\users\\aleja\\anaconda3\\lib\\site-packages (from segment-analytics-python==2.2.3->pygwalker) (2.8.2)\n",
      "Requirement already satisfied: jsonschema>=3.0 in c:\\users\\aleja\\anaconda3\\lib\\site-packages (from altair>=5.0.0->pygwalker) (4.19.2)\n",
      "Requirement already satisfied: numpy in c:\\users\\aleja\\anaconda3\\lib\\site-packages (from altair>=5.0.0->pygwalker) (1.24.3)\n",
      "Requirement already satisfied: packaging in c:\\users\\aleja\\anaconda3\\lib\\site-packages (from altair>=5.0.0->pygwalker) (23.1)\n",
      "Requirement already satisfied: toolz in c:\\users\\aleja\\anaconda3\\lib\\site-packages (from altair>=5.0.0->pygwalker) (0.12.0)\n",
      "Requirement already satisfied: tzdata>=2022.1 in c:\\users\\aleja\\anaconda3\\lib\\site-packages (from pandas->pygwalker) (2023.3)\n",
      "Requirement already satisfied: charset-normalizer<4,>=2 in c:\\users\\aleja\\anaconda3\\lib\\site-packages (from requests->pygwalker) (2.0.4)\n",
      "Requirement already satisfied: idna<4,>=2.5 in c:\\users\\aleja\\anaconda3\\lib\\site-packages (from requests->pygwalker) (3.4)\n",
      "Requirement already satisfied: urllib3<3,>=1.21.1 in c:\\users\\aleja\\anaconda3\\lib\\site-packages (from requests->pygwalker) (1.26.18)\n",
      "Requirement already satisfied: certifi>=2017.4.17 in c:\\users\\aleja\\anaconda3\\lib\\site-packages (from requests->pygwalker) (2023.11.17)\n",
      "Requirement already satisfied: decorator in c:\\users\\aleja\\anaconda3\\lib\\site-packages (from ipython->pygwalker) (5.1.1)\n",
      "Requirement already satisfied: jedi>=0.16 in c:\\users\\aleja\\anaconda3\\lib\\site-packages (from ipython->pygwalker) (0.18.1)\n",
      "Requirement already satisfied: matplotlib-inline in c:\\users\\aleja\\anaconda3\\lib\\site-packages (from ipython->pygwalker) (0.1.6)\n",
      "Requirement already satisfied: prompt-toolkit<3.1.0,>=3.0.41 in c:\\users\\aleja\\anaconda3\\lib\\site-packages (from ipython->pygwalker) (3.0.43)\n",
      "Requirement already satisfied: pygments>=2.4.0 in c:\\users\\aleja\\anaconda3\\lib\\site-packages (from ipython->pygwalker) (2.15.1)\n",
      "Requirement already satisfied: stack-data in c:\\users\\aleja\\anaconda3\\lib\\site-packages (from ipython->pygwalker) (0.2.0)\n",
      "Requirement already satisfied: traitlets>=5 in c:\\users\\aleja\\anaconda3\\lib\\site-packages (from ipython->pygwalker) (5.7.1)\n",
      "Requirement already satisfied: colorama in c:\\users\\aleja\\anaconda3\\lib\\site-packages (from ipython->pygwalker) (0.4.6)\n",
      "Requirement already satisfied: ipykernel>=4.5.1 in c:\\users\\aleja\\anaconda3\\lib\\site-packages (from ipywidgets->pygwalker) (6.25.0)\n",
      "Requirement already satisfied: widgetsnbextension~=4.0 in c:\\users\\aleja\\anaconda3\\lib\\site-packages (from ipywidgets->pygwalker) (4.0.5)\n",
      "Requirement already satisfied: jupyterlab-widgets~=3.0 in c:\\users\\aleja\\anaconda3\\lib\\site-packages (from ipywidgets->pygwalker) (3.0.9)\n",
      "Requirement already satisfied: MarkupSafe>=2.0 in c:\\users\\aleja\\anaconda3\\lib\\site-packages (from jinja2->pygwalker) (2.1.3)\n",
      "Requirement already satisfied: annotated-types>=0.4.0 in c:\\users\\aleja\\anaconda3\\lib\\site-packages (from pydantic->pygwalker) (0.6.0)\n",
      "Requirement already satisfied: pydantic-core==2.14.6 in c:\\users\\aleja\\anaconda3\\lib\\site-packages (from pydantic->pygwalker) (2.14.6)\n",
      "Requirement already satisfied: greenlet!=0.4.17 in c:\\users\\aleja\\anaconda3\\lib\\site-packages (from sqlalchemy->pygwalker) (3.0.1)\n",
      "Requirement already satisfied: comm>=0.1.1 in c:\\users\\aleja\\anaconda3\\lib\\site-packages (from ipykernel>=4.5.1->ipywidgets->pygwalker) (0.1.2)\n",
      "Requirement already satisfied: debugpy>=1.6.5 in c:\\users\\aleja\\anaconda3\\lib\\site-packages (from ipykernel>=4.5.1->ipywidgets->pygwalker) (1.6.7)\n",
      "Requirement already satisfied: jupyter-client>=6.1.12 in c:\\users\\aleja\\anaconda3\\lib\\site-packages (from ipykernel>=4.5.1->ipywidgets->pygwalker) (8.6.0)\n",
      "Requirement already satisfied: jupyter-core!=5.0.*,>=4.12 in c:\\users\\aleja\\anaconda3\\lib\\site-packages (from ipykernel>=4.5.1->ipywidgets->pygwalker) (5.5.0)\n",
      "Requirement already satisfied: nest-asyncio in c:\\users\\aleja\\anaconda3\\lib\\site-packages (from ipykernel>=4.5.1->ipywidgets->pygwalker) (1.5.6)\n",
      "Requirement already satisfied: pyzmq>=20 in c:\\users\\aleja\\anaconda3\\lib\\site-packages (from ipykernel>=4.5.1->ipywidgets->pygwalker) (25.1.2)\n",
      "Requirement already satisfied: tornado>=6.1 in c:\\users\\aleja\\anaconda3\\lib\\site-packages (from ipykernel>=4.5.1->ipywidgets->pygwalker) (6.3.3)\n",
      "Requirement already satisfied: parso<0.9.0,>=0.8.0 in c:\\users\\aleja\\anaconda3\\lib\\site-packages (from jedi>=0.16->ipython->pygwalker) (0.8.3)\n",
      "Requirement already satisfied: attrs>=22.2.0 in c:\\users\\aleja\\anaconda3\\lib\\site-packages (from jsonschema>=3.0->altair>=5.0.0->pygwalker) (23.1.0)\n",
      "Requirement already satisfied: jsonschema-specifications>=2023.03.6 in c:\\users\\aleja\\anaconda3\\lib\\site-packages (from jsonschema>=3.0->altair>=5.0.0->pygwalker) (2023.7.1)\n",
      "Requirement already satisfied: referencing>=0.28.4 in c:\\users\\aleja\\anaconda3\\lib\\site-packages (from jsonschema>=3.0->altair>=5.0.0->pygwalker) (0.30.2)\n",
      "Requirement already satisfied: rpds-py>=0.7.1 in c:\\users\\aleja\\anaconda3\\lib\\site-packages (from jsonschema>=3.0->altair>=5.0.0->pygwalker) (0.10.6)\n",
      "Requirement already satisfied: wcwidth in c:\\users\\aleja\\anaconda3\\lib\\site-packages (from prompt-toolkit<3.1.0,>=3.0.41->ipython->pygwalker) (0.2.5)\n",
      "Requirement already satisfied: six>=1.5 in c:\\users\\aleja\\anaconda3\\lib\\site-packages (from python-dateutil~=2.2->segment-analytics-python==2.2.3->pygwalker) (1.16.0)\n",
      "Requirement already satisfied: executing in c:\\users\\aleja\\anaconda3\\lib\\site-packages (from stack-data->ipython->pygwalker) (0.8.3)\n",
      "Requirement already satisfied: asttokens in c:\\users\\aleja\\anaconda3\\lib\\site-packages (from stack-data->ipython->pygwalker) (2.0.5)\n",
      "Requirement already satisfied: pure-eval in c:\\users\\aleja\\anaconda3\\lib\\site-packages (from stack-data->ipython->pygwalker) (0.2.2)\n",
      "Requirement already satisfied: platformdirs>=2.5 in c:\\users\\aleja\\anaconda3\\lib\\site-packages (from jupyter-core!=5.0.*,>=4.12->ipykernel>=4.5.1->ipywidgets->pygwalker) (3.10.0)\n",
      "Requirement already satisfied: pywin32>=300 in c:\\users\\aleja\\anaconda3\\lib\\site-packages (from jupyter-core!=5.0.*,>=4.12->ipykernel>=4.5.1->ipywidgets->pygwalker) (305.1)\n",
      "Note: you may need to restart the kernel to use updated packages.\n"
     ]
    }
   ],
   "source": [
    "pip install pygwalker"
   ]
  },
  {
   "cell_type": "code",
   "execution_count": 2,
   "metadata": {},
   "outputs": [],
   "source": [
    "import pygwalker as pw\n",
    "import numpy as np\n",
    "import pandas as pd"
   ]
  },
  {
   "cell_type": "code",
   "execution_count": 3,
   "metadata": {},
   "outputs": [
    {
     "data": {
      "application/vnd.jupyter.widget-view+json": {
       "model_id": "f94c983c7330405b960fd90f47b147a7",
       "version_major": 2,
       "version_minor": 0
      },
      "text/plain": [
       "Box(children=(HTML(value='<div id=\"ifr-pyg-00061029a03008e6YHKj0a1AtupOz8GW\" style=\"height: auto\">\\n    <head>…"
      ]
     },
     "metadata": {},
     "output_type": "display_data"
    },
    {
     "data": {
      "text/html": [],
      "text/plain": [
       "<IPython.core.display.HTML object>"
      ]
     },
     "metadata": {},
     "output_type": "display_data"
    },
    {
     "data": {
      "text/plain": [
       "<pygwalker.api.pygwalker.PygWalker at 0x248e48dff50>"
      ]
     },
     "execution_count": 3,
     "metadata": {},
     "output_type": "execute_result"
    }
   ],
   "source": [
    "data = pd.read_csv('./airbnb-listings-extract.csv', sep=';')\n",
    "pw.walk(data)"
   ]
  }
 ],
 "metadata": {
  "kernelspec": {
   "display_name": "Python 3 (ipykernel)",
   "language": "python",
   "name": "python3"
  },
  "language_info": {
   "codemirror_mode": {
    "name": "ipython",
    "version": 3
   },
   "file_extension": ".py",
   "mimetype": "text/x-python",
   "name": "python",
   "nbconvert_exporter": "python",
   "pygments_lexer": "ipython3",
   "version": "3.11.5"
  }
 },
 "nbformat": 4,
 "nbformat_minor": 4
}
